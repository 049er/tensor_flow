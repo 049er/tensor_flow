{
 "cells": [
  {
   "cell_type": "code",
   "execution_count": null,
   "metadata": {},
   "outputs": [],
   "source": [
    "# Setup\n",
    "\n",
    "import os\n",
    "import tensorflow as tf\n",
    "import numpy as np\n",
    "import logging\n",
    "import matplotlib.pylab as plt\n",
    "import sys\n",
    "\n",
    "\n",
    "logging.getLogger('tensorflow').setLevel(logging.ERROR)\n",
    "os.environ[\"KMP_AFFINITY\"] = \"noverbose\"\n",
    "os.environ['TF_CPP_MIN_LOG_LEVEL'] = '3'\n",
    "tf.autograph.set_verbosity(3)\n",
    "\n",
    "np.set_printoptions(suppress=True)"
   ]
  },
  {
   "cell_type": "code",
   "execution_count": null,
   "metadata": {},
   "outputs": [],
   "source": [
    "import inverting_data as d\n",
    "f = open('inverted_data.txt', \"a\")\n",
    "print(d.corner_points.shape)\n",
    "\n",
    "#test inverting\n",
    "# N = d.corner_points[0]\n",
    "# x = [N[0], N[2],N[4], N[6]]\n",
    "# y = [N[1], N[3],N[5], N[7]]\n",
    "\n",
    "# plt.scatter(x,y)\n",
    "# plt.show()\n",
    "\n",
    "# aX = -N[6]\n",
    "# aY = -N[7]\n",
    "# x = [N[0] + aX, N[2]+ aX, N[4]+ aX, N[6]+ aX]\n",
    "# y = [-(N[1] + aY), -(N[3]+ aY), -(N[5] + aY), -(N[7]+ aY)]\n",
    "# x = [x[3], x[2], x[1],x[0]]\n",
    "# y = [y[3], y[2], y[1], y[0]]\n",
    "# N = d.corner_points[0]\n",
    "# x = [N[0], N[2],N[4], N[6]]\n",
    "# y = [N[1], N[3],N[5], N[7]]\n",
    "\n",
    "# plt.scatter(x,y)\n",
    "# plt.show()\n",
    "\n",
    "# aX = -N[6]\n",
    "# aY = -N[7]\n",
    "# x = [N[0] + aX, N[2]+ aX, N[4]+ aX, N[6]+ aX]\n",
    "# y = [-(N[1] + aY), -(N[3]+ aY), -(N[5] + aY), -(N[7]+ aY)]\n",
    "# x = [x[3], x[2], x[1],x[0]]\n",
    "# y = [y[3], y[2], y[1], y[0]]\n",
    "\n",
    "# plt.scatter(x,y)\n",
    "# plt.show()\n",
    "# plt.scatter(x,y)\n",
    "# plt.show()\n",
    "\n",
    "# for N in d.corner_points:\n",
    "#     aX = -N[6]\n",
    "#     aY = -N[7]\n",
    "#     x = [N[0] + aX, N[2]+ aX, N[4]+ aX, N[6]+ aX]\n",
    "#     y = [-(N[1] + aY), -(N[3]+ aY), -(N[5] + aY), -(N[7]+ aY)]\n",
    "#     x = [x[3], x[2], x[1],x[0]]\n",
    "#     y = [y[3], y[2], y[1], y[0]]\n",
    "    \n",
    "#     ans = [x[0], y[0],x[1], y[1],x[2], y[2],x[3], y[3],]\n",
    "#     b = [x[0], y[0],x[1], y[1],x[2], y[2],x[3], y[3],]\n",
    "#     f.write(str(b)+ ',' + '\\n')\n",
    " \n",
    "#     print(ans)\n",
    "    \n",
    "\n",
    "\n",
    "\n",
    "# for point in data.cornerPoints:\n",
    "    "
   ]
  },
  {
   "cell_type": "code",
   "execution_count": 1,
   "metadata": {},
   "outputs": [
    {
     "data": {
      "image/png": "[encoded data removed]",
      "text/plain": [
       "<Figure size 432x288 with 1 Axes>"
      ]
     },
     "metadata": {
      "needs_background": "light"
     },
     "output_type": "display_data"
    }
   ],
   "source": [
    "import matplotlib.pylab as plt\n",
    "import inverting_data as d\n",
    "x = []\n",
    "y = []\n",
    "\n",
    "for corners in d.corner_points:\n",
    "    x.append(corners[0])\n",
    "    x.append(corners[2])\n",
    "    x.append(corners[4])\n",
    "    x.append(corners[6])\n",
    "    y.append(corners[1])\n",
    "    y.append(corners[3])\n",
    "    y.append(corners[5])\n",
    "    y.append(corners[7])\n",
    "\n",
    "plt.title('X30_Y0_Z0')\n",
    "plt.scatter(x,y)\n",
    "plt.show()\n"
   ]
  }
 ],
 "metadata": {
  "interpreter": {
   "hash": "99313c5ed734f8f56544f8fadb47f4b194e4001a240c5eaa2e8e8b97b694ec5b"
  },
  "kernelspec": {
   "display_name": "Python 3.9.12 ('tf')",
   "language": "python",
   "name": "python3"
  },
  "language_info": {
   "codemirror_mode": {
    "name": "ipython",
    "version": 3
   },
   "file_extension": ".py",
   "mimetype": "text/x-python",
   "name": "python",
   "nbconvert_exporter": "python",
   "pygments_lexer": "ipython3",
   "version": "3.9.12"
  },
  "orig_nbformat": 4
 },
 "nbformat": 4,
 "nbformat_minor": 2
}
