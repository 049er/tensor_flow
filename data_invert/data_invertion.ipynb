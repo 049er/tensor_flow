{
 "cells": [
  {
   "cell_type": "code",
   "execution_count": 1,
   "metadata": {},
   "outputs": [],
   "source": [
    "# Setup\n",
    "\n",
    "import os\n",
    "import tensorflow as tf\n",
    "import numpy as np\n",
    "import logging\n",
    "import matplotlib.pylab as plt\n",
    "from matplotlib.patches import Polygon\n",
    "\n",
    "\n",
    "logging.getLogger('tensorflow').setLevel(logging.ERROR)\n",
    "os.environ[\"KMP_AFFINITY\"] = \"noverbose\"\n",
    "os.environ['TF_CPP_MIN_LOG_LEVEL'] = '3'\n",
    "tf.autograph.set_verbosity(3)\n",
    "\n",
    "np.set_printoptions(suppress=True)"
   ]
  },
  {
   "cell_type": "code",
   "execution_count": 36,
   "metadata": {},
   "outputs": [
    {
     "name": "stdout",
     "output_type": "stream",
     "text": [
      "[[  0   0  85  42  86 165   1 141]]\n",
      "[85, 0, 0, 42, -1, 165, 84, 141]\n"
     ]
    },
    {
     "data": {
      "image/png": "[encoded data removed]",
      "text/plain": [
       "<Figure size 360x360 with 1 Axes>"
      ]
     },
     "metadata": {
      "needs_background": "light"
     },
     "output_type": "display_data"
    },
    {
     "data": {
      "image/png": "[encoded data removed]",
      "text/plain": [
       "<Figure size 360x360 with 1 Axes>"
      ]
     },
     "metadata": {
      "needs_background": "light"
     },
     "output_type": "display_data"
    }
   ],
   "source": [
    "\n",
    "#/home/werner/Projects/tensor_flow/raw_data/training/y/x0_y_neg_60_z0.txt\n",
    "#/home/werner/Projects/tensor_flow/raw_data/training/y/x0_y60_z0.txt\n",
    "\n",
    "def plotData(corner_points, name):\n",
    "    x = []\n",
    "    y = []\n",
    "    fig, axs = plt.subplots(figsize=(5,5))\n",
    "    axs.set_xlim([-200, 200])\n",
    "    axs.set_ylim([-200, 200])\n",
    "    for corners in corner_points:\n",
    "        y = np.array([[corners[0], corners[0]], [corners[2], corners[3]],[corners[4], corners[5]],[corners[6], corners[7]]])\n",
    "        p = Polygon(y,closed=True,ec='k',lw=0.1,fill=True)\n",
    "        plt.gca().add_patch(p)\n",
    "    plt.title(name)\n",
    "    \n",
    "data = np.genfromtxt(\"/home/werner/Projects/tensor_flow/raw_data/training/y/x0_y60_z0.txt\", dtype=int,encoding=None, delimiter=\",\")\n",
    "data2 = np.empty((0,8), int)\n",
    "data2 = np.vstack([data2, data[0]])\n",
    "print(data2)\n",
    "plotData(corner_points=data2, name='x0_y60_z0')\n",
    "\n",
    "cp = np.empty((0,8), int)\n",
    "N = data[0]\n",
    "aX = -N[2]\n",
    "aY = N[3]\n",
    "x = [-(N[0] + aX), -(N[2]+ aX), -(N[4]+ aX), -(N[6]+ aX)]\n",
    "y = [N[1], N[3], N[5], N[7]]\n",
    "ans = [x[0], y[0], x[1], y[1], x[2], y[2], x[3], y[3]]\n",
    "print(ans)\n",
    "cp = np.vstack([cp, ans])\n",
    "\n",
    "plotData(corner_points=cp, name='inverted')\n",
    "\n",
    "# for N in data:\n",
    "#     aX = -N[4]\n",
    "#     aY = N[5]\n",
    "#     x = [-(N[0] + aX), -(N[2] + aX), -(N[4] + aX), -(N[6] + aX)]\n",
    "#     y = [N[1] , N[3] , N[5] , N[7] ]\n",
    "    \n",
    "#     ans = [x[0], y[0], x[1], y[1], x[2], y[2], x[3], y[3]]\n",
    "#     # print(ans)\n",
    "#     cp = np.vstack([cp, ans])\n",
    "\n",
    "\n",
    "\n",
    "# data = np.genfromtxt(\"/home/werner/Projects/tensor_flow/raw_data/training/y/x0_y_neg_60_z0.txt\", dtype=int,encoding=None, delimiter=\",\")\n",
    "# plotData(corner_points=data, name='x0_y_neg_60_z0')\n",
    "\n"
   ]
  },
  {
   "cell_type": "code",
   "execution_count": null,
   "metadata": {},
   "outputs": [],
   "source": [
    "import inverting_data as d\n",
    "# f = open('inverted_data.txt', \"a\")\n",
    "# print(d.corner_points.shape)\n",
    "\n",
    "corner_points = np.empty((0,8), float)\n",
    "data = np.genfromtxt(\"/home/werner/Projects/tensor_flow/raw_data/training/y/x0_y60_z0.txt\", dtype=int,encoding=None, delimiter=\",\")\n",
    "corner_points = np.append(corner_points, data, axis=0)\n",
    "\n",
    "\n",
    "\n",
    "\n",
    "\n",
    "#test inverting\n",
    "# N = d.corner_points[0]\n",
    "# x = [N[0], N[2],N[4], N[6]]\n",
    "# y = [N[1], N[3],N[5], N[7]]\n",
    "\n",
    "# plt.scatter(x,y)\n",
    "# plt.show()\n",
    "\n",
    "# aX = -N[6]\n",
    "# aY = -N[7]\n",
    "# x = [N[0] + aX, N[2]+ aX, N[4]+ aX, N[6]+ aX]\n",
    "# y = [-(N[1] + aY), -(N[3]+ aY), -(N[5] + aY), -(N[7]+ aY)]\n",
    "# x = [x[3], x[2], x[1],x[0]]\n",
    "# y = [y[3], y[2], y[1], y[0]]\n",
    "# N = d.corner_points[0]\n",
    "# x = [N[0], N[2],N[4], N[6]]\n",
    "# y = [N[1], N[3],N[5], N[7]]\n",
    "\n",
    "# plt.scatter(x,y)\n",
    "# plt.show()\n",
    "\n",
    "# aX = -N[6]\n",
    "# aY = -N[7]\n",
    "# x = [N[0] + aX, N[2]+ aX, N[4]+ aX, N[6]+ aX]\n",
    "# y = [-(N[1] + aY), -(N[3]+ aY), -(N[5] + aY), -(N[7]+ aY)]\n",
    "# x = [x[3], x[2], x[1],x[0]]\n",
    "# y = [y[3], y[2], y[1], y[0]]\n",
    "\n",
    "# plt.scatter(x,y)\n",
    "# plt.show()\n",
    "# plt.scatter(x,y)\n",
    "# plt.show()\n",
    "\n",
    "# for N in d.corner_points:\n",
    "    # aX = -N[6]\n",
    "    # aY = -N[7]\n",
    "    # x = [N[0] + aX, N[2]+ aX, N[4]+ aX, N[6]+ aX]\n",
    "    # y = [-(N[1] + aY), -(N[3]+ aY), -(N[5] + aY), -(N[7]+ aY)]\n",
    "    # x = [x[3], x[2], x[1],x[0]]\n",
    "    # y = [y[3], y[2], y[1], y[0]]\n",
    "    \n",
    "    # ans = [x[0], y[0],x[1], y[1],x[2], y[2],x[3], y[3],]\n",
    "    # b = [x[0], y[0],x[1], y[1],x[2], y[2],x[3], y[3],]\n",
    "#     f.write(str(b)+ ',' + '\\n')\n",
    " \n",
    "#     print(ans)\n",
    "    \n",
    "\n",
    "\n",
    "\n",
    "# for point in data.cornerPoints:\n",
    "    "
   ]
  },
  {
   "cell_type": "code",
   "execution_count": null,
   "metadata": {},
   "outputs": [],
   "source": [
    "import matplotlib.pylab as plt\n",
    "# import inverting_data as data\n",
    "from matplotlib.patches import Polygon\n",
    "\n",
    "\n",
    "corner_points = np.empty((0,8), float)\n",
    "data = np.genfromtxt(\"/home/werner/Projects/tensor_flow/raw_data/training/y/x0_y60_z0.txt\", dtype=int,encoding=None, delimiter=\",\")\n",
    "corner_points = np.append(corner_points, data, axis=0)\n",
    "\n",
    "    \n",
    "x = []\n",
    "y = []\n",
    "fig, axs = plt.subplots(figsize=(10,10))\n",
    "axs.set_xlim([-200, 800])\n",
    "axs.set_ylim([-200, 800])\n",
    "for corners in corner_points:\n",
    "    y = np.array([[corners[0], corners[0]], [corners[2], corners[3]],[corners[4], corners[5]],[corners[6], corners[7]]])\n",
    "    p = Polygon(y,closed=True,ec='k',lw=0.1,fill=False)\n",
    "    plt.gca().add_patch(p)\n",
    "plt.title('x0_y60_z0')\n",
    "\n",
    "# plt.scatter(x,y)\n",
    "\n",
    "\n"
   ]
  }
 ],
 "metadata": {
  "interpreter": {
   "hash": "99313c5ed734f8f56544f8fadb47f4b194e4001a240c5eaa2e8e8b97b694ec5b"
  },
  "kernelspec": {
   "display_name": "Python 3.9.12 ('tf')",
   "language": "python",
   "name": "python3"
  },
  "language_info": {
   "codemirror_mode": {
    "name": "ipython",
    "version": 3
   },
   "file_extension": ".py",
   "mimetype": "text/x-python",
   "name": "python",
   "nbconvert_exporter": "python",
   "pygments_lexer": "ipython3",
   "version": "3.9.12"
  },
  "orig_nbformat": 4
 },
 "nbformat": 4,
 "nbformat_minor": 2
}
