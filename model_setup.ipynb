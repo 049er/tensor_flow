{
 "cells": [
  {
   "cell_type": "code",
   "execution_count": 1,
   "metadata": {},
   "outputs": [],
   "source": [
    "# Setup\n",
    "\n",
    "import os\n",
    "import tensorflow as tf\n",
    "import numpy as np\n",
    "import logging\n",
    "import matplotlib.pylab as plt\n",
    "\n",
    "logging.getLogger('tensorflow').setLevel(logging.ERROR)\n",
    "os.environ[\"KMP_AFFINITY\"] = \"noverbose\"\n",
    "os.environ['TF_CPP_MIN_LOG_LEVEL'] = '3'\n",
    "tf.autograph.set_verbosity(3)\n",
    "\n",
    "np.set_printoptions(suppress=True)"
   ]
  },
  {
   "cell_type": "code",
   "execution_count": 2,
   "metadata": {},
   "outputs": [
    {
     "ename": "ValueError",
     "evalue": "all the input arrays must have same number of dimensions, but the array at index 0 has 2 dimension(s) and the array at index 1 has 1 dimension(s)",
     "output_type": "error",
     "traceback": [
      "\u001b[0;31m---------------------------------------------------------------------------\u001b[0m",
      "\u001b[0;31mValueError\u001b[0m                                Traceback (most recent call last)",
      "\u001b[1;32m/home/werner/Projects/tensor_flow/model_setup.ipynb Cell 2'\u001b[0m in \u001b[0;36m<cell line: 11>\u001b[0;34m()\u001b[0m\n\u001b[1;32m      <a href='vscode-notebook-cell:/home/werner/Projects/tensor_flow/model_setup.ipynb#ch0000001?line=5'>6</a>\u001b[0m \u001b[39mimport\u001b[39;00m \u001b[39mpython_data\u001b[39;00m\u001b[39m.\u001b[39;00m\u001b[39mx60_y0_z0\u001b[39;00m \u001b[39mas\u001b[39;00m \u001b[39mx60\u001b[39;00m \u001b[39m# 60, 0, 0\u001b[39;00m\n\u001b[1;32m     <a href='vscode-notebook-cell:/home/werner/Projects/tensor_flow/model_setup.ipynb#ch0000001?line=9'>10</a>\u001b[0m corner_points \u001b[39m=\u001b[39m np\u001b[39m.\u001b[39mempty((\u001b[39m0\u001b[39m,\u001b[39m8\u001b[39m), \u001b[39mfloat\u001b[39m)\n\u001b[0;32m---> <a href='vscode-notebook-cell:/home/werner/Projects/tensor_flow/model_setup.ipynb#ch0000001?line=10'>11</a>\u001b[0m corner_points \u001b[39m=\u001b[39m  np\u001b[39m.\u001b[39;49mappend(corner_points, n\u001b[39m.\u001b[39;49mcorner_points, axis\u001b[39m=\u001b[39;49m\u001b[39m0\u001b[39;49m)\n\u001b[1;32m     <a href='vscode-notebook-cell:/home/werner/Projects/tensor_flow/model_setup.ipynb#ch0000001?line=12'>13</a>\u001b[0m corner_points \u001b[39m=\u001b[39m  np\u001b[39m.\u001b[39mappend(corner_points, x30\u001b[39m.\u001b[39mcorner_points, axis\u001b[39m=\u001b[39m\u001b[39m0\u001b[39m) \u001b[39m#b\u001b[39;00m\n\u001b[1;32m     <a href='vscode-notebook-cell:/home/werner/Projects/tensor_flow/model_setup.ipynb#ch0000001?line=13'>14</a>\u001b[0m corner_points \u001b[39m=\u001b[39m  np\u001b[39m.\u001b[39mappend(corner_points, x45\u001b[39m.\u001b[39mcorner_points, axis\u001b[39m=\u001b[39m\u001b[39m0\u001b[39m) \u001b[39m#d\u001b[39;00m\n",
      "File \u001b[0;32m<__array_function__ internals>:180\u001b[0m, in \u001b[0;36mappend\u001b[0;34m(*args, **kwargs)\u001b[0m\n",
      "File \u001b[0;32m~/anaconda3/envs/tf/lib/python3.9/site-packages/numpy/lib/function_base.py:5392\u001b[0m, in \u001b[0;36mappend\u001b[0;34m(arr, values, axis)\u001b[0m\n\u001b[1;32m   <a href='file:///home/werner/anaconda3/envs/tf/lib/python3.9/site-packages/numpy/lib/function_base.py?line=5389'>5390</a>\u001b[0m     values \u001b[39m=\u001b[39m ravel(values)\n\u001b[1;32m   <a href='file:///home/werner/anaconda3/envs/tf/lib/python3.9/site-packages/numpy/lib/function_base.py?line=5390'>5391</a>\u001b[0m     axis \u001b[39m=\u001b[39m arr\u001b[39m.\u001b[39mndim\u001b[39m-\u001b[39m\u001b[39m1\u001b[39m\n\u001b[0;32m-> <a href='file:///home/werner/anaconda3/envs/tf/lib/python3.9/site-packages/numpy/lib/function_base.py?line=5391'>5392</a>\u001b[0m \u001b[39mreturn\u001b[39;00m concatenate((arr, values), axis\u001b[39m=\u001b[39;49maxis)\n",
      "File \u001b[0;32m<__array_function__ internals>:180\u001b[0m, in \u001b[0;36mconcatenate\u001b[0;34m(*args, **kwargs)\u001b[0m\n",
      "\u001b[0;31mValueError\u001b[0m: all the input arrays must have same number of dimensions, but the array at index 0 has 2 dimension(s) and the array at index 1 has 1 dimension(s)"
     ]
    }
   ],
   "source": [
    "# DATA\n",
    "import python_data.x0_y0_z0 as n\n",
    "\n",
    "import python_data.x30_y0_z0 as x30 # 30, 0, 0\n",
    "import python_data.x45_y0_z0 as x45 # 45, 0, 0\n",
    "import python_data.x60_y0_z0 as x60 # 60, 0, 0\n",
    "\n",
    "\n",
    "    \n",
    "corner_points = np.empty((0,8), float)\n",
    "corner_points =  np.append(corner_points, n.corner_points, axis=0)\n",
    "\n",
    "corner_points =  np.append(corner_points, x30.corner_points, axis=0) #b\n",
    "corner_points =  np.append(corner_points, x45.corner_points, axis=0) #d\n",
    "corner_points = np.append(corner_points, x60.corner_points, axis=0)\n",
    "\n",
    "print(corner_points.shape)\n",
    "\n",
    "answers = np.empty((0,3), float)\n",
    "answers = np.append(answers, n.answers,axis=0)\n",
    "answers = np.append(answers, x30.answers,axis=0)\n",
    "answers = np.append(answers, x45.answers,axis=0)\n",
    "answers = np.append(answers, x60.answers,axis=0)\n",
    "\n",
    "\n",
    "print(answers.shape)"
   ]
  },
  {
   "cell_type": "code",
   "execution_count": null,
   "metadata": {},
   "outputs": [],
   "source": [
    "# Model Setup\n",
    "# import training_data as data\n",
    "\n",
    "\n",
    "model = tf.keras.Sequential([\n",
    "    tf.keras.layers.Input(shape=(8,)),\n",
    "    tf.keras.layers.Normalization(axis=None),\n",
    "    tf.keras.layers.Dense(units=128, activation=tf.nn.relu),\n",
    "    tf.keras.layers.Dense(units=128, activation=tf.nn.relu),\n",
    "    tf.keras.layers.Dense(units=128, activation=tf.nn.relu),\n",
    "    tf.keras.layers.Dense(units=128, activation=tf.nn.relu),\n",
    "    tf.keras.layers.Dense(units=3,)\n",
    "                             ])\n",
    "\n",
    "model.compile(loss='mean_squared_error',\n",
    "              optimizer=tf.keras.optimizers.Adam(0.0002))\n",
    "\n",
    "\n",
    "\n",
    "history = model.fit(corner_points, answers, epochs=1000, verbose=1)\n",
    "\n",
    "print(\"Finished training the model\")\n",
    "# plt.xlabel('Epoch Number')\n",
    "# plt.ylabel(\"Loss Magnitude\")\n",
    "plt.plot(history.history['loss'])\n",
    "print(history.history['loss'][-1])\n",
    "# print(model.predict([0, 0, 1,1,2,2,3,3]))"
   ]
  },
  {
   "cell_type": "code",
   "execution_count": null,
   "metadata": {},
   "outputs": [],
   "source": [
    "#Test Data \n",
    "testPoints = np.array([\n",
    "    #D(0°, 0°, 0°) \n",
    "    [0.0, 0.0, 1.0126999616622925, 0.012500000186264515, 1.0, 1.0, -0.01269999984651804, 0.987500011920929],\n",
    "    [0.0, 0.0, 1.0180000066757202, -0.012199999764561653, 1.0, 1.0, -0.03590000048279762, 1.0],\n",
    "    \n",
    "    #D(30°, 0°, 0°)  \n",
    "    [0.0, 0.0, 0.8779000043869019, 0.004999999888241291, 1.0, 1.0, 0.07039999961853027, 1.0198999643325806],\n",
    "    [0.0, 0.0, 1.0197999477386475, 0.01940000057220459, 1.0, 1.0, -0.15870000422000885, 0.9854000210762024],\n",
    "    \n",
    "    #D(45°, 0°, 0°)  \n",
    "    [0.0, 0.0, 0.8252999782562256, 0.01119999960064888, 1.0, 1.0, 0.044599998742341995, 1.0055999755859375],\n",
    "    [0.0, 0.0, 1.1720000505447388, 0.045499999076128006, 1.0, 1.0, -0.27959999442100525, 0.9545000195503235],\n",
    "    \n",
    "    #D(60, 0°, 0°) \n",
    "    [0.0, 0.0, 1.121999979019165, -0.007600000128149986, 1.0, 1.0, -0.27639999985694885, 0.9847999811172485],\n",
    "    [0.0, 0.0, 0.9266999959945679, 0.009399999864399433, 1.0, 1.0, -0.04670000076293945, 1.0094000101089478],\n",
    "], dtype=np.float64)\n",
    "\n",
    "testAnswers = np.array([\n",
    "    #D( 0°, 0°, 0°) \n",
    "    [0, 0, 0], \n",
    "    [0, 0, 0], \n",
    "    \n",
    "    #D( 30°, 0°, 0°)  \n",
    "    [30, 0, 0],\n",
    "    [30, 0, 0],\n",
    "    \n",
    "    #D( 45°, 0°, 0°)  \n",
    "    [45, 0, 0],\n",
    "    [45, 0, 0],\n",
    "    \n",
    "    #D(-30°, 0°, 0°) \n",
    "    [60, 0, 0], \n",
    "    [60, 0, 0], \n",
    "    \n",
    "    \n",
    "    # [0, 30, 0], #D( 0°, 30°, 0°) \n",
    "    # [0, 60, 0], #D( 0°, 60°, 0°) \n",
    "], dtype=np.float64)"
   ]
  },
  {
   "cell_type": "code",
   "execution_count": null,
   "metadata": {},
   "outputs": [],
   "source": [
    "#Testing\n",
    "# y = 0\n",
    "# for x in testPoints:\n",
    "#   p = model.predict(x)\n",
    "#   prediction = round(p[0][0], 2), round(p[0][1], 2), round(p[0][2], 2)\n",
    "#   answer = testAnswers[y][0], testAnswers[y][1], testAnswers[y][2]\n",
    "#   print('Prediction: ' ,prediction )\n",
    "#   print('Answer    : ' ,answer)\n",
    "#   print('\\n')\n",
    "#   y = y + 1\n",
    "  \n",
    "model.predict([0.0, 0.0, 0.8635, 0.0248, 1.0, 1.0, -0.0273, 0.9851])"
   ]
  }
 ],
 "metadata": {
  "interpreter": {
   "hash": "99313c5ed734f8f56544f8fadb47f4b194e4001a240c5eaa2e8e8b97b694ec5b"
  },
  "kernelspec": {
   "display_name": "Python 3.9.12 ('tf')",
   "language": "python",
   "name": "python3"
  },
  "language_info": {
   "codemirror_mode": {
    "name": "ipython",
    "version": 3
   },
   "file_extension": ".py",
   "mimetype": "text/x-python",
   "name": "python",
   "nbconvert_exporter": "python",
   "pygments_lexer": "ipython3",
   "version": "3.9.12"
  },
  "orig_nbformat": 4
 },
 "nbformat": 4,
 "nbformat_minor": 2
}
