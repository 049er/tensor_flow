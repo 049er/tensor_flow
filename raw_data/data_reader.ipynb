{
 "cells": [
  {
   "cell_type": "code",
   "execution_count": 6,
   "metadata": {},
   "outputs": [],
   "source": [
    "#Setup\n",
    "import os\n",
    "import numpy as np\n"
   ]
  },
  {
   "cell_type": "code",
   "execution_count": 12,
   "metadata": {},
   "outputs": [
    {
     "name": "stdout",
     "output_type": "stream",
     "text": [
      "0\n",
      "0\n",
      "179\n",
      "0\n",
      "182\n",
      "177\n",
      "5\n",
      "178\n"
     ]
    }
   ],
   "source": [
    "Data = np.genfromtxt(\"/home/werner/Projects/tensor_flow/raw_data/testing/n/test_x0_y0_z0_1.txt\", dtype=int,encoding=None, delimiter=\",\")\n",
    "\n"
   ]
  }
 ],
 "metadata": {
  "interpreter": {
   "hash": "0fb525d995e0958798e36914dbbeebf9776adb9826b1870f56d9f091777d3cbd"
  },
  "kernelspec": {
   "display_name": "Python 3.9.12 ('base')",
   "language": "python",
   "name": "python3"
  },
  "language_info": {
   "codemirror_mode": {
    "name": "ipython",
    "version": 3
   },
   "file_extension": ".py",
   "mimetype": "text/x-python",
   "name": "python",
   "nbconvert_exporter": "python",
   "pygments_lexer": "ipython3",
   "version": "3.9.12"
  },
  "orig_nbformat": 4
 },
 "nbformat": 4,
 "nbformat_minor": 2
}
