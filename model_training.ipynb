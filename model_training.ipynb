{
 "cells": [
  {
   "cell_type": "code",
   "execution_count": null,
   "metadata": {},
   "outputs": [],
   "source": [
    "import numpy as np\n",
    "import matplotlib.pylab as plt\n",
    "import pandas as pd\n",
    "import logging\n",
    "import tensorflow as tf\n",
    "import tempfile\n",
    "import os\n",
    "from sklearn.metrics import accuracy_score\n",
    "\n",
    "logging.getLogger('tensorflow').setLevel(logging.ERROR)\n",
    "tf.autograph.set_verbosity(1)\n",
    "np.set_printoptions(suppress=True)\n",
    "\n",
    "tmpdir = tempfile.mkdtemp()"
   ]
  },
  {
   "cell_type": "code",
   "execution_count": null,
   "metadata": {},
   "outputs": [],
   "source": [
    "cp_train = pd.read_csv(\n",
    "    \"/home/werner/Projects/tensor_flow/tensor_data_p0_0002.csv\",\n",
    "  header=[0])\n",
    "\n",
    "cp_train.head()\n",
    "\n",
    "cp_features = cp_train.copy()\n",
    "list_to_pop = ['angleX','angleY','angleZ']\n",
    "cp_labelsX = np.array(cp_features.pop('angleX'))\n",
    "cp_labelsY = np.array(cp_features.pop('angleY'))\n",
    "cp_labelsZ = np.array(cp_features.pop('angleZ'))\n",
    "\n",
    "cp_labels = np.array(cp_labelsX)\n",
    "cp_labels = np.column_stack((cp_labels, cp_labelsY))\n",
    "cp_labels = np.column_stack((cp_labels, cp_labelsZ))\n",
    "cp_features = np.array(cp_features)\n",
    "\n",
    "\n",
    "print(cp_labels.shape, cp_labels.dtype)\n",
    "print(cp_features.shape, cp_features.dtype)\n"
   ]
  },
  {
   "cell_type": "code",
   "execution_count": null,
   "metadata": {},
   "outputs": [],
   "source": [
    "model = tf.keras.Sequential([\n",
    "    tf.keras.layers.Input(shape=(8,)),\n",
    "    tf.keras.layers.Normalization(),\n",
    "    tf.keras.layers.Dense(units=128, activation=tf.nn.relu),\n",
    "    tf.keras.layers.Dense(units=128, activation=tf.nn.relu),\n",
    "    tf.keras.layers.Dense(units=128, activation=tf.nn.relu),\n",
    "    tf.keras.layers.Dense(units=128, activation=tf.nn.relu),\n",
    "    tf.keras.layers.Dense(units=3,)\n",
    "                             ])\n",
    "\n",
    "model.compile(loss='mean_squared_error', optimizer=tf.keras.optimizers.Adam(0.0001))\n",
    "\n",
    "history = model.fit(cp_features, cp_labels, epochs=200, verbose=1)\n",
    "\n",
    "print(\"Finished training the model\")\n",
    "plt.plot(history.history['loss'])\n",
    "print(history.history['loss'][-1])\n",
    "\n"
   ]
  },
  {
   "cell_type": "code",
   "execution_count": null,
   "metadata": {},
   "outputs": [],
   "source": [
    "# print(tf.__version__)"
   ]
  },
  {
   "cell_type": "code",
   "execution_count": null,
   "metadata": {},
   "outputs": [],
   "source": [
    "def get_file_size(file_path):\n",
    "    size = os.path.getsize(file_path)\n",
    "    return size"
   ]
  },
  {
   "cell_type": "code",
   "execution_count": null,
   "metadata": {},
   "outputs": [],
   "source": [
    "def convert_bytes(size, unit=None):\n",
    "    if unit == \"KB\":\n",
    "        return print('File size: ' + str(round(size/1024,3)) + ' Kilobytes')\n",
    "    elif unit == \"MB\":\n",
    "        return print('File size: ' + str(round(size/(1024*1024),3)) + ' Megabytes')\n",
    "    else:\n",
    "        return print('File size: ' + str(size) + 'bytes')"
   ]
  },
  {
   "cell_type": "code",
   "execution_count": null,
   "metadata": {},
   "outputs": [],
   "source": [
    "Keras_Model_name = \"tf_model.h5\"\n",
    "model.save(Keras_Model_name)\n",
    "convert_bytes(get_file_size(Keras_Model_name), \"MB\")\n"
   ]
  },
  {
   "cell_type": "code",
   "execution_count": null,
   "metadata": {},
   "outputs": [],
   "source": [
    "tf_lite_model_file_name = \"angle_model.tflite\"\n",
    "tf_lite_converter = tf.lite.TFLiteConverter.from_keras_model(model)\n",
    "tf_lite_model = tf_lite_converter.convert()\n",
    "name = tf_lite_model_file_name\n",
    "open(name, 'wb').write(tf_lite_model)\n",
    "convert_bytes(get_file_size(tf_lite_model_file_name), 'KB')\n"
   ]
  },
  {
   "cell_type": "code",
   "execution_count": null,
   "metadata": {},
   "outputs": [],
   "source": [
    "interpreter = tf.lite.Interpreter(model_path=name)\n",
    "input_details = interpreter.get_input_details()\n",
    "output_details = interpreter.get_output_details()\n",
    "print('Input shape: ', input_details[0]['shape'])\n",
    "print('Input type: ', input_details[0]['dtype'])\n",
    "print('Output shape: ', output_details[0]['shape'])\n",
    "print('Output type: ', output_details[0]['dtype'])"
   ]
  },
  {
   "cell_type": "code",
   "execution_count": null,
   "metadata": {},
   "outputs": [],
   "source": [
    "# test_data = cp_labels\n",
    "\n",
    "# interpreter.set_tensor(input_details[0]['index'], test_data)\n",
    "# interpreter.invoke()\n",
    "# test_ans = interpreter.get_tensor(output_details[0]['index'])\n",
    "# prediction_classes = np.argmax(test_ans, axis=1)\n",
    "# acc = accuracy_score(prediction_classes, cp_features)\n"
   ]
  },
  {
   "cell_type": "code",
   "execution_count": null,
   "metadata": {},
   "outputs": [],
   "source": [
    "# model.evaluate(cp_features, cp_labels)\n",
    "# module_no_signatures_path = os.path.join(tmpdir, 'module_no_signatures')\n",
    "# module(tf.constant(0.))\n",
    "# print('Saving model...')\n",
    "# tf.saved_model.save(module, module_no_signatures_path)"
   ]
  }
 ],
 "metadata": {
  "kernelspec": {
   "display_name": "Python 3.9.12 ('tf')",
   "language": "python",
   "name": "python3"
  },
  "language_info": {
   "codemirror_mode": {
    "name": "ipython",
    "version": 3
   },
   "file_extension": ".py",
   "mimetype": "text/x-python",
   "name": "python",
   "nbconvert_exporter": "python",
   "pygments_lexer": "ipython3",
   "version": "3.9.12"
  },
  "orig_nbformat": 4,
  "vscode": {
   "interpreter": {
    "hash": "99313c5ed734f8f56544f8fadb47f4b194e4001a240c5eaa2e8e8b97b694ec5b"
   }
  }
 },
 "nbformat": 4,
 "nbformat_minor": 2
}
